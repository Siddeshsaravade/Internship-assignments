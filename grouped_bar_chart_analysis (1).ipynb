{
 "cells": [
  {
   "cell_type": "code",
   "execution_count": 1,
   "metadata": {},
   "outputs": [],
   "source": [
    "import pandas as pd\n",
    "import numpy as np\n",
    "import matplotlib.pyplot as plt\n",
    "import seaborn as sns\n",
    "from datetime import datetime\n",
    "import pytz\n"
   ]
  },
  {
   "cell_type": "code",
   "execution_count": 2,
   "metadata": {},
   "outputs": [],
   "source": [
    "# Load Excel file\n",
    "file_path = \"GooglePlayStore_Analysis_Top10Apps.xlsx.xlsx\"\n",
    "excel_data = pd.ExcelFile(file_path)\n",
    "\n",
    "# Load relevant sheet (usually 'googleplaystore')\n",
    "df = excel_data.parse('googleplaystore')\n"
   ]
  },
  {
   "cell_type": "code",
   "execution_count": 3,
   "metadata": {},
   "outputs": [],
   "source": [
    "# Drop rows with crucial missing values\n",
    "df = df.dropna(subset=['Category', 'Rating', 'Reviews', 'Installs', 'Size', 'Last Updated'])\n",
    "\n",
    "# Convert 'Rating' and 'Reviews' to numeric\n",
    "df['Rating'] = pd.to_numeric(df['Rating'], errors='coerce')\n",
    "df['Reviews'] = pd.to_numeric(df['Reviews'], errors='coerce')\n",
    "\n",
    "# Clean 'Installs' and convert to float\n",
    "df['Installs'] = df['Installs'].str.replace('[+,]', '', regex=True).astype(float)\n",
    "\n",
    "# Convert 'Size' to MB\n",
    "def convert_size(size):\n",
    "    if 'M' in size:\n",
    "        return float(size.replace('M', ''))\n",
    "    elif 'k' in size:\n",
    "        return float(size.replace('k', '')) / 1024\n",
    "    else:\n",
    "        return np.nan\n",
    "\n",
    "df['Size_MB'] = df['Size'].apply(convert_size)\n",
    "\n",
    "# Convert 'Last Updated' to datetime\n",
    "df['Last Updated'] = pd.to_datetime(df['Last Updated'], errors='coerce')\n"
   ]
  },
  {
   "cell_type": "code",
   "execution_count": 4,
   "metadata": {},
   "outputs": [],
   "source": [
    "df_filtered = df[\n",
    "    (df['Rating'] >= 4.0) &\n",
    "    (df['Size_MB'] >= 10) &\n",
    "    (df['Last Updated'].dt.month == 1)\n",
    "]\n"
   ]
  },
  {
   "cell_type": "code",
   "execution_count": 5,
   "metadata": {},
   "outputs": [],
   "source": [
    "top_categories = df_filtered.groupby('Category').agg({\n",
    "    'Rating': 'mean',\n",
    "    'Reviews': 'sum',\n",
    "    'Installs': 'sum'\n",
    "}).reset_index()\n",
    "\n",
    "# Get top 10 categories by installs\n",
    "top_categories = top_categories.sort_values(by='Installs', ascending=False).head(10)\n"
   ]
  },
  {
   "cell_type": "code",
   "execution_count": 6,
   "metadata": {},
   "outputs": [
    {
     "name": "stdout",
     "output_type": "stream",
     "text": [
      "⏳ Graph not shown: This chart is only viewable between 3 PM and 5 PM IST.\n"
     ]
    }
   ],
   "source": [
    "# Check current IST time\n",
    "ist = pytz.timezone('Asia/Kolkata')\n",
    "current_time = datetime.now(ist)\n",
    "\n",
    "if 15 <= current_time.hour < 17:\n",
    "    plt.figure(figsize=(14, 6))\n",
    "    \n",
    "    x = top_categories['Category']\n",
    "    ratings = top_categories['Rating']\n",
    "    reviews = top_categories['Reviews'] / 1e6  # in millions\n",
    "\n",
    "    bar_width = 0.4\n",
    "    indices = range(len(x))\n",
    "\n",
    "    plt.bar([i - bar_width/2 for i in indices], ratings, width=bar_width, label='Average Rating', color='skyblue')\n",
    "    plt.bar([i + bar_width/2 for i in indices], reviews, width=bar_width, label='Total Reviews (Millions)', color='salmon')\n",
    "\n",
    "    plt.xlabel('App Category')\n",
    "    plt.ylabel('Value')\n",
    "    plt.title('Top 10 App Categories by Installs (Filtered)\\nAvg Rating vs Total Reviews')\n",
    "    plt.xticks(indices, x, rotation=45)\n",
    "    plt.legend()\n",
    "    plt.tight_layout()\n",
    "    plt.show()\n",
    "else:\n",
    "    print(\"⏳ Graph not shown: This chart is only viewable between 3 PM and 5 PM IST.\")\n"
   ]
  },
  {
   "cell_type": "code",
   "execution_count": null,
   "metadata": {},
   "outputs": [],
   "source": []
  }
 ],
 "metadata": {
  "kernelspec": {
   "display_name": "Python 3",
   "language": "python",
   "name": "python3"
  },
  "language_info": {
   "codemirror_mode": {
    "name": "ipython",
    "version": 3
   },
   "file_extension": ".py",
   "mimetype": "text/x-python",
   "name": "python",
   "nbconvert_exporter": "python",
   "pygments_lexer": "ipython3",
   "version": "3.7.6"
  }
 },
 "nbformat": 4,
 "nbformat_minor": 4
}
